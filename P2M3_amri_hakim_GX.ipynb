{
 "cells": [
  {
   "cell_type": "markdown",
   "metadata": {},
   "source": [
    "# **Expectations**"
   ]
  },
  {
   "cell_type": "code",
   "execution_count": 155,
   "metadata": {},
   "outputs": [],
   "source": [
    "# Create a data context\n",
    "from great_expectations.data_context import FileDataContext\n",
    "context = FileDataContext.create(project_root_dir='./')"
   ]
  },
  {
   "cell_type": "markdown",
   "metadata": {},
   "source": [
    "Insight : Pertama dibuat `konteks data` pada `Great Expectations` menggunakan fungsi `FileDataContext` guna `mengakses` dan `memanipulasi` data yang digunakan untuk `memvalidasi` kualitasnya. Direktori projek ini disimpan pada `project_root_dir='./'`."
   ]
  },
  {
   "cell_type": "code",
   "execution_count": 156,
   "metadata": {},
   "outputs": [],
   "source": [
    "# Give a name to a Datasource. This name must be unique between Datasources.\n",
    "datasource_name = 'clean_data'\n",
    "datasource = context.sources.add_pandas(datasource_name)\n",
    "\n",
    "# Give a name to a data asset\n",
    "asset_name = 'clean'\n",
    "path_to_data = 'P2M3_amri_hakim_data_clean.csv'\n",
    "asset = datasource.add_csv_asset(asset_name, filepath_or_buffer=path_to_data)\n",
    "\n",
    "# Build batch request\n",
    "batch_request = asset.build_batch_request()"
   ]
  },
  {
   "cell_type": "markdown",
   "metadata": {},
   "source": [
    "Insight : Memberikan nama pada sumber data yaitu `clean_data` dan nama asetnya adalah `clean` dengan mengambil file `data` CSV yang sudah `clean`. Lalu `batch request` dibangun dari aset yang sudah ditentukan sebelumnya guna `menyiapkan` data untuk dilakukan `validasi` menggunakan `Great Expectations`."
   ]
  },
  {
   "cell_type": "code",
   "execution_count": 157,
   "metadata": {},
   "outputs": [
    {
     "data": {
      "application/vnd.jupyter.widget-view+json": {
       "model_id": "f89206bcbe214fd3b78c1e69104e5653",
       "version_major": 2,
       "version_minor": 0
      },
      "text/plain": [
       "Calculating Metrics:   0%|          | 0/1 [00:00<?, ?it/s]"
      ]
     },
     "metadata": {},
     "output_type": "display_data"
    },
    {
     "data": {
      "text/html": [
       "<div>\n",
       "<style scoped>\n",
       "    .dataframe tbody tr th:only-of-type {\n",
       "        vertical-align: middle;\n",
       "    }\n",
       "\n",
       "    .dataframe tbody tr th {\n",
       "        vertical-align: top;\n",
       "    }\n",
       "\n",
       "    .dataframe thead th {\n",
       "        text-align: right;\n",
       "    }\n",
       "</style>\n",
       "<table border=\"1\" class=\"dataframe\">\n",
       "  <thead>\n",
       "    <tr style=\"text-align: right;\">\n",
       "      <th></th>\n",
       "      <th>ordernumber</th>\n",
       "      <th>quantityordered</th>\n",
       "      <th>priceeach</th>\n",
       "      <th>orderlinenumber</th>\n",
       "      <th>sales</th>\n",
       "      <th>orderdate</th>\n",
       "      <th>days_since_lastorder</th>\n",
       "      <th>status</th>\n",
       "      <th>productline</th>\n",
       "      <th>msrp</th>\n",
       "      <th>...</th>\n",
       "      <th>customername</th>\n",
       "      <th>phone</th>\n",
       "      <th>addressline1</th>\n",
       "      <th>city</th>\n",
       "      <th>postalcode</th>\n",
       "      <th>country</th>\n",
       "      <th>contactlastname</th>\n",
       "      <th>contactfirstname</th>\n",
       "      <th>dealsize</th>\n",
       "      <th>id</th>\n",
       "    </tr>\n",
       "  </thead>\n",
       "  <tbody>\n",
       "    <tr>\n",
       "      <th>0</th>\n",
       "      <td>10107</td>\n",
       "      <td>30</td>\n",
       "      <td>95.70</td>\n",
       "      <td>2</td>\n",
       "      <td>2871.00</td>\n",
       "      <td>24/02/2018</td>\n",
       "      <td>828</td>\n",
       "      <td>Shipped</td>\n",
       "      <td>Motorcycles</td>\n",
       "      <td>95</td>\n",
       "      <td>...</td>\n",
       "      <td>Land of Toys Inc.</td>\n",
       "      <td>2125557818</td>\n",
       "      <td>897 Long Airport Avenue</td>\n",
       "      <td>NYC</td>\n",
       "      <td>10022</td>\n",
       "      <td>USA</td>\n",
       "      <td>Yu</td>\n",
       "      <td>Kwai</td>\n",
       "      <td>Small</td>\n",
       "      <td>0</td>\n",
       "    </tr>\n",
       "    <tr>\n",
       "      <th>1</th>\n",
       "      <td>10121</td>\n",
       "      <td>34</td>\n",
       "      <td>81.35</td>\n",
       "      <td>5</td>\n",
       "      <td>2765.90</td>\n",
       "      <td>07/05/2018</td>\n",
       "      <td>757</td>\n",
       "      <td>Shipped</td>\n",
       "      <td>Motorcycles</td>\n",
       "      <td>95</td>\n",
       "      <td>...</td>\n",
       "      <td>Reims Collectables</td>\n",
       "      <td>26.47.1555</td>\n",
       "      <td>59 rue de l'Abbaye</td>\n",
       "      <td>Reims</td>\n",
       "      <td>51100</td>\n",
       "      <td>France</td>\n",
       "      <td>Henriot</td>\n",
       "      <td>Paul</td>\n",
       "      <td>Small</td>\n",
       "      <td>1</td>\n",
       "    </tr>\n",
       "    <tr>\n",
       "      <th>2</th>\n",
       "      <td>10134</td>\n",
       "      <td>41</td>\n",
       "      <td>94.74</td>\n",
       "      <td>2</td>\n",
       "      <td>3884.34</td>\n",
       "      <td>01/07/2018</td>\n",
       "      <td>703</td>\n",
       "      <td>Shipped</td>\n",
       "      <td>Motorcycles</td>\n",
       "      <td>95</td>\n",
       "      <td>...</td>\n",
       "      <td>Lyon Souveniers</td>\n",
       "      <td>+33 1 46 62 7555</td>\n",
       "      <td>27 rue du Colonel Pierre Avia</td>\n",
       "      <td>Paris</td>\n",
       "      <td>75508</td>\n",
       "      <td>France</td>\n",
       "      <td>Da Cunha</td>\n",
       "      <td>Daniel</td>\n",
       "      <td>Medium</td>\n",
       "      <td>2</td>\n",
       "    </tr>\n",
       "    <tr>\n",
       "      <th>3</th>\n",
       "      <td>10145</td>\n",
       "      <td>45</td>\n",
       "      <td>83.26</td>\n",
       "      <td>6</td>\n",
       "      <td>3746.70</td>\n",
       "      <td>25/08/2018</td>\n",
       "      <td>649</td>\n",
       "      <td>Shipped</td>\n",
       "      <td>Motorcycles</td>\n",
       "      <td>95</td>\n",
       "      <td>...</td>\n",
       "      <td>Toys4GrownUps.com</td>\n",
       "      <td>6265557265</td>\n",
       "      <td>78934 Hillside Dr.</td>\n",
       "      <td>Pasadena</td>\n",
       "      <td>90003</td>\n",
       "      <td>USA</td>\n",
       "      <td>Young</td>\n",
       "      <td>Julie</td>\n",
       "      <td>Medium</td>\n",
       "      <td>3</td>\n",
       "    </tr>\n",
       "    <tr>\n",
       "      <th>4</th>\n",
       "      <td>10168</td>\n",
       "      <td>36</td>\n",
       "      <td>96.66</td>\n",
       "      <td>1</td>\n",
       "      <td>3479.76</td>\n",
       "      <td>28/10/2018</td>\n",
       "      <td>586</td>\n",
       "      <td>Shipped</td>\n",
       "      <td>Motorcycles</td>\n",
       "      <td>95</td>\n",
       "      <td>...</td>\n",
       "      <td>Technics Stores Inc.</td>\n",
       "      <td>6505556809</td>\n",
       "      <td>9408 Furth Circle</td>\n",
       "      <td>Burlingame</td>\n",
       "      <td>94217</td>\n",
       "      <td>USA</td>\n",
       "      <td>Hirano</td>\n",
       "      <td>Juri</td>\n",
       "      <td>Medium</td>\n",
       "      <td>4</td>\n",
       "    </tr>\n",
       "  </tbody>\n",
       "</table>\n",
       "<p>5 rows × 21 columns</p>\n",
       "</div>"
      ],
      "text/plain": [
       "   ordernumber  quantityordered  priceeach  orderlinenumber    sales  \\\n",
       "0        10107               30      95.70                2  2871.00   \n",
       "1        10121               34      81.35                5  2765.90   \n",
       "2        10134               41      94.74                2  3884.34   \n",
       "3        10145               45      83.26                6  3746.70   \n",
       "4        10168               36      96.66                1  3479.76   \n",
       "\n",
       "    orderdate  days_since_lastorder   status  productline  msrp  ...  \\\n",
       "0  24/02/2018                   828  Shipped  Motorcycles    95  ...   \n",
       "1  07/05/2018                   757  Shipped  Motorcycles    95  ...   \n",
       "2  01/07/2018                   703  Shipped  Motorcycles    95  ...   \n",
       "3  25/08/2018                   649  Shipped  Motorcycles    95  ...   \n",
       "4  28/10/2018                   586  Shipped  Motorcycles    95  ...   \n",
       "\n",
       "           customername             phone                   addressline1  \\\n",
       "0     Land of Toys Inc.        2125557818        897 Long Airport Avenue   \n",
       "1    Reims Collectables        26.47.1555             59 rue de l'Abbaye   \n",
       "2       Lyon Souveniers  +33 1 46 62 7555  27 rue du Colonel Pierre Avia   \n",
       "3     Toys4GrownUps.com        6265557265             78934 Hillside Dr.   \n",
       "4  Technics Stores Inc.        6505556809              9408 Furth Circle   \n",
       "\n",
       "         city postalcode country contactlastname contactfirstname dealsize id  \n",
       "0         NYC      10022     USA              Yu             Kwai    Small  0  \n",
       "1       Reims      51100  France         Henriot             Paul    Small  1  \n",
       "2       Paris      75508  France        Da Cunha           Daniel   Medium  2  \n",
       "3    Pasadena      90003     USA           Young            Julie   Medium  3  \n",
       "4  Burlingame      94217     USA          Hirano             Juri   Medium  4  \n",
       "\n",
       "[5 rows x 21 columns]"
      ]
     },
     "execution_count": 157,
     "metadata": {},
     "output_type": "execute_result"
    }
   ],
   "source": [
    "# Creat an expectation suite\n",
    "expectation_suite_name = 'expectation-data'\n",
    "context.add_or_update_expectation_suite(expectation_suite_name)\n",
    "\n",
    "# Create a validator using above expectation suite\n",
    "validator = context.get_validator(\n",
    "    batch_request = batch_request,\n",
    "    expectation_suite_name = expectation_suite_name\n",
    ")\n",
    "\n",
    "# Check the validator\n",
    "validator.head()"
   ]
  },
  {
   "cell_type": "markdown",
   "metadata": {},
   "source": [
    "Insight :  Membuat `expectation suite` dengan nama `expectation-data` dan dibuat `validatornya`. Nantinya `validator` ini digunakan untuk `memvalidasi` data menggunakan `Great Expectations`."
   ]
  },
  {
   "cell_type": "code",
   "execution_count": 158,
   "metadata": {},
   "outputs": [
    {
     "data": {
      "application/vnd.jupyter.widget-view+json": {
       "model_id": "5bad380b88204296be9918c66146ebf6",
       "version_major": 2,
       "version_minor": 0
      },
      "text/plain": [
       "Calculating Metrics:   0%|          | 0/8 [00:00<?, ?it/s]"
      ]
     },
     "metadata": {},
     "output_type": "display_data"
    },
    {
     "data": {
      "text/plain": [
       "{\n",
       "  \"success\": true,\n",
       "  \"result\": {\n",
       "    \"element_count\": 2747,\n",
       "    \"unexpected_count\": 0,\n",
       "    \"unexpected_percent\": 0.0,\n",
       "    \"partial_unexpected_list\": [],\n",
       "    \"missing_count\": 0,\n",
       "    \"missing_percent\": 0.0,\n",
       "    \"unexpected_percent_total\": 0.0,\n",
       "    \"unexpected_percent_nonmissing\": 0.0\n",
       "  },\n",
       "  \"meta\": {},\n",
       "  \"exception_info\": {\n",
       "    \"raised_exception\": false,\n",
       "    \"exception_traceback\": null,\n",
       "    \"exception_message\": null\n",
       "  }\n",
       "}"
      ]
     },
     "execution_count": 158,
     "metadata": {},
     "output_type": "execute_result"
    }
   ],
   "source": [
    "# Expectation 1 : Column `id` must be unique\n",
    "\n",
    "validator.expect_column_values_to_be_unique('id')"
   ]
  },
  {
   "cell_type": "markdown",
   "metadata": {},
   "source": [
    "Insight : Pertama dicek kolom `id` untuk memvalidasi keunikannya menggunakan fungsi Great Expectations `expect_column_values_to_be_unique`. Dan pada `output` menunjukkan sukses dengan nilai `true` artinya values pada kolom `id` merupakan nilai yang `unik`."
   ]
  },
  {
   "cell_type": "code",
   "execution_count": 159,
   "metadata": {},
   "outputs": [
    {
     "data": {
      "application/vnd.jupyter.widget-view+json": {
       "model_id": "911b55abfb0a4d499017856ca538b976",
       "version_major": 2,
       "version_minor": 0
      },
      "text/plain": [
       "Calculating Metrics:   0%|          | 0/8 [00:00<?, ?it/s]"
      ]
     },
     "metadata": {},
     "output_type": "display_data"
    },
    {
     "data": {
      "text/plain": [
       "{\n",
       "  \"success\": true,\n",
       "  \"result\": {\n",
       "    \"element_count\": 2747,\n",
       "    \"unexpected_count\": 0,\n",
       "    \"unexpected_percent\": 0.0,\n",
       "    \"partial_unexpected_list\": [],\n",
       "    \"missing_count\": 0,\n",
       "    \"missing_percent\": 0.0,\n",
       "    \"unexpected_percent_total\": 0.0,\n",
       "    \"unexpected_percent_nonmissing\": 0.0\n",
       "  },\n",
       "  \"meta\": {},\n",
       "  \"exception_info\": {\n",
       "    \"raised_exception\": false,\n",
       "    \"exception_traceback\": null,\n",
       "    \"exception_message\": null\n",
       "  }\n",
       "}"
      ]
     },
     "execution_count": 159,
     "metadata": {},
     "output_type": "execute_result"
    }
   ],
   "source": [
    "# Expectation 2 : Column `priceeach` must be less than $ 4000k and more than $ 10k\n",
    "\n",
    "validator.expect_column_values_to_be_between(\n",
    "    column='days_since_lastorder', min_value=10, max_value=4000\n",
    ")"
   ]
  },
  {
   "cell_type": "markdown",
   "metadata": {},
   "source": [
    "Insight : Kedua memvalidasi kolom `days_since_lastorder` menggunakan `expect_column_values_to_be_between`. Fungsi tersebut `memvalidasi` apakah value pada kolom `days_since_lastorder` mempunyai nilai minimal dan nilai maksimal yang sesuai dengan ekspektasi yaitu `min_value=10` dan `max_value=4000`. Dan hasil ekspektasinya adalah `true` bahwa pada kolom tersebut mempunya value minimal `10` dan maksimal `4000`."
   ]
  },
  {
   "cell_type": "code",
   "execution_count": 160,
   "metadata": {},
   "outputs": [
    {
     "data": {
      "application/vnd.jupyter.widget-view+json": {
       "model_id": "2e6fa45eeb2c470d847bd6dad78a8565",
       "version_major": 2,
       "version_minor": 0
      },
      "text/plain": [
       "Calculating Metrics:   0%|          | 0/8 [00:00<?, ?it/s]"
      ]
     },
     "metadata": {},
     "output_type": "display_data"
    },
    {
     "data": {
      "text/plain": [
       "{\n",
       "  \"success\": true,\n",
       "  \"result\": {\n",
       "    \"element_count\": 2747,\n",
       "    \"unexpected_count\": 0,\n",
       "    \"unexpected_percent\": 0.0,\n",
       "    \"partial_unexpected_list\": [],\n",
       "    \"missing_count\": 0,\n",
       "    \"missing_percent\": 0.0,\n",
       "    \"unexpected_percent_total\": 0.0,\n",
       "    \"unexpected_percent_nonmissing\": 0.0\n",
       "  },\n",
       "  \"meta\": {},\n",
       "  \"exception_info\": {\n",
       "    \"raised_exception\": false,\n",
       "    \"exception_traceback\": null,\n",
       "    \"exception_message\": null\n",
       "  }\n",
       "}"
      ]
     },
     "execution_count": 160,
     "metadata": {},
     "output_type": "execute_result"
    }
   ],
   "source": [
    "# Expectation 3 : Column `status` must contain one of the following 6 things :\n",
    "# Shipped\n",
    "# In Process\n",
    "# On Hold\n",
    "# Resolved\n",
    "# Cancelled\n",
    "# Disputed\n",
    "\n",
    "validator.expect_column_values_to_be_in_set('status', ['Shipped', 'In Process', 'On Hold', 'Resolved', 'Cancelled', 'Disputed'])"
   ]
  },
  {
   "cell_type": "markdown",
   "metadata": {},
   "source": [
    "Insight : Ketiga adalah memvalidasi kolom `status` apakah kolom tersebut mempunyai `6 nilai` yang telah ditentukan pada fungsi `expect_column_values_to_be_in_set`. Dan pada hasil yaitu `true`, yang artinya adalah values pada kolom `status` mempunyai keenam nilai yang diekspektasikan."
   ]
  },
  {
   "cell_type": "code",
   "execution_count": 161,
   "metadata": {},
   "outputs": [
    {
     "data": {
      "application/vnd.jupyter.widget-view+json": {
       "model_id": "7138e82b336e4061a476576f25f0188a",
       "version_major": 2,
       "version_minor": 0
      },
      "text/plain": [
       "Calculating Metrics:   0%|          | 0/1 [00:00<?, ?it/s]"
      ]
     },
     "metadata": {},
     "output_type": "display_data"
    },
    {
     "data": {
      "text/plain": [
       "{\n",
       "  \"success\": true,\n",
       "  \"result\": {\n",
       "    \"observed_value\": \"float64\"\n",
       "  },\n",
       "  \"meta\": {},\n",
       "  \"exception_info\": {\n",
       "    \"raised_exception\": false,\n",
       "    \"exception_traceback\": null,\n",
       "    \"exception_message\": null\n",
       "  }\n",
       "}"
      ]
     },
     "execution_count": 161,
     "metadata": {},
     "output_type": "execute_result"
    }
   ],
   "source": [
    "# Expectation 4 : Column `priceeach` must in form of integer or float\n",
    "\n",
    "validator.expect_column_values_to_be_in_type_list('priceeach', ['integer', 'float'])"
   ]
  },
  {
   "cell_type": "markdown",
   "metadata": {},
   "source": [
    "Insight : Keempat, memvalidasi `tipe data` pada kolom `priceeach` apakah dia `integer` atau `float` menggunakan fungsi `expect_column_values_to_be_in_type_list`. Pada hasil yaitu `true`, artinya kolom tersebut memiliki tipe data antara `integer` atau `float`. Dalam hal ini, kolom tersebut adalah `float`."
   ]
  },
  {
   "cell_type": "code",
   "execution_count": 162,
   "metadata": {},
   "outputs": [
    {
     "data": {
      "application/vnd.jupyter.widget-view+json": {
       "model_id": "b13211e81f844c69af5dc6d68eedce55",
       "version_major": 2,
       "version_minor": 0
      },
      "text/plain": [
       "Calculating Metrics:   0%|          | 0/8 [00:00<?, ?it/s]"
      ]
     },
     "metadata": {},
     "output_type": "display_data"
    },
    {
     "data": {
      "text/plain": [
       "{\n",
       "  \"success\": true,\n",
       "  \"result\": {\n",
       "    \"element_count\": 2747,\n",
       "    \"unexpected_count\": 0,\n",
       "    \"unexpected_percent\": 0.0,\n",
       "    \"partial_unexpected_list\": [],\n",
       "    \"missing_count\": 0,\n",
       "    \"missing_percent\": 0.0,\n",
       "    \"unexpected_percent_total\": 0.0,\n",
       "    \"unexpected_percent_nonmissing\": 0.0\n",
       "  },\n",
       "  \"meta\": {},\n",
       "  \"exception_info\": {\n",
       "    \"raised_exception\": false,\n",
       "    \"exception_traceback\": null,\n",
       "    \"exception_message\": null\n",
       "  }\n",
       "}"
      ]
     },
     "execution_count": 162,
     "metadata": {},
     "output_type": "execute_result"
    }
   ],
   "source": [
    "validator.expect_column_values_to_match_strftime_format('orderdate', '%d/%m/%Y')"
   ]
  },
  {
   "cell_type": "markdown",
   "metadata": {},
   "source": [
    "Insight : Kelima, memvalidasi kolom `orderdate` apakah format value pada kolom tersebut sesuai ekspektasi atau tidak menggunakan fungsi `expect_column_values_to_match_strftime_format`. Ekspektasinya adalah `'%d/%m/%Y'`. Maka pada hasil, format pada kolom tersebut sesuai dengan ditunjukkan nilai `true`."
   ]
  },
  {
   "cell_type": "code",
   "execution_count": 163,
   "metadata": {},
   "outputs": [
    {
     "data": {
      "application/vnd.jupyter.widget-view+json": {
       "model_id": "af93540399f14e22bc707a4924013faa",
       "version_major": 2,
       "version_minor": 0
      },
      "text/plain": [
       "Calculating Metrics:   0%|          | 0/4 [00:00<?, ?it/s]"
      ]
     },
     "metadata": {},
     "output_type": "display_data"
    },
    {
     "data": {
      "text/plain": [
       "{\n",
       "  \"success\": true,\n",
       "  \"result\": {\n",
       "    \"observed_value\": 3553.0475828176195\n",
       "  },\n",
       "  \"meta\": {},\n",
       "  \"exception_info\": {\n",
       "    \"raised_exception\": false,\n",
       "    \"exception_traceback\": null,\n",
       "    \"exception_message\": null\n",
       "  }\n",
       "}"
      ]
     },
     "execution_count": 163,
     "metadata": {},
     "output_type": "execute_result"
    }
   ],
   "source": [
    "validator.expect_column_mean_to_be_between('sales', min_value=1000, max_value=4000)"
   ]
  },
  {
   "cell_type": "markdown",
   "metadata": {},
   "source": [
    "Insight : Keenam adalah memvalidasi rata-rata values pada kolom `sales` menggunakan fungsi `expect_column_mean_to_be_between`. Diatur `min_value=1000` dan `max_value=4000`. Hasilnya adalah `true` bahwa rata-rata value kolom `sales` memiliki nilai minimal rata-rata `1000` dan nilai maksimal rata-rata `4000`."
   ]
  },
  {
   "cell_type": "code",
   "execution_count": 164,
   "metadata": {},
   "outputs": [
    {
     "data": {
      "application/vnd.jupyter.widget-view+json": {
       "model_id": "71523f3cf32f4eee948ff2bfd285c26d",
       "version_major": 2,
       "version_minor": 0
      },
      "text/plain": [
       "Calculating Metrics:   0%|          | 0/9 [00:00<?, ?it/s]"
      ]
     },
     "metadata": {},
     "output_type": "display_data"
    },
    {
     "data": {
      "text/plain": [
       "{\n",
       "  \"success\": true,\n",
       "  \"result\": {\n",
       "    \"element_count\": 2747,\n",
       "    \"unexpected_count\": 0,\n",
       "    \"unexpected_percent\": 0.0,\n",
       "    \"partial_unexpected_list\": [],\n",
       "    \"missing_count\": 0,\n",
       "    \"missing_percent\": 0.0,\n",
       "    \"unexpected_percent_total\": 0.0,\n",
       "    \"unexpected_percent_nonmissing\": 0.0\n",
       "  },\n",
       "  \"meta\": {},\n",
       "  \"exception_info\": {\n",
       "    \"raised_exception\": false,\n",
       "    \"exception_traceback\": null,\n",
       "    \"exception_message\": null\n",
       "  }\n",
       "}"
      ]
     },
     "execution_count": 164,
     "metadata": {},
     "output_type": "execute_result"
    }
   ],
   "source": [
    "validator.expect_column_value_lengths_to_be_between('addressline1', min_value=10, max_value=50)"
   ]
  },
  {
   "cell_type": "markdown",
   "metadata": {},
   "source": [
    "Insight : Ketujuh adalah memvalidasi panjang value pada kolom `addressline1` dengan menggunakan fungsi `expect_column_value_lengths_to_be_between` dan diatur ekspektasi `min_value=10` dan `max_value=50`. Pada hasil yaitu `true` yang mana kolom tersebut mempunyai panjang value minimal `10` dan maksimalnya `50`."
   ]
  },
  {
   "cell_type": "code",
   "execution_count": 165,
   "metadata": {},
   "outputs": [],
   "source": [
    "# Save into Expectation Suite\n",
    "\n",
    "validator.save_expectation_suite(discard_failed_expectations=False)"
   ]
  },
  {
   "cell_type": "markdown",
   "metadata": {},
   "source": [
    "Insight : `Menyimpan` expectation suite menggunakan fungsi `save_expectation_suite`. Dan pada parameter `discard_failed_expectations=False` guna untuk menyimpan ekspektasi yang `gagal`. "
   ]
  },
  {
   "cell_type": "markdown",
   "metadata": {},
   "source": [
    "# **Checkpoint**"
   ]
  },
  {
   "cell_type": "code",
   "execution_count": 166,
   "metadata": {},
   "outputs": [],
   "source": [
    "# Create a checkpoint\n",
    "\n",
    "checkpoint_1 = context.add_or_update_checkpoint(\n",
    "    name = 'checkpoint_1',\n",
    "    validator = validator,\n",
    ")"
   ]
  },
  {
   "cell_type": "markdown",
   "metadata": {},
   "source": [
    "Insight : Membuat `checkpoint` pada `Grat Expectations` dengan parameter nama `checkpoint_1` dan parameter validator yaitu `validator` menggunakan fungsi `add_or_update_checkpoint`."
   ]
  },
  {
   "cell_type": "code",
   "execution_count": 167,
   "metadata": {},
   "outputs": [
    {
     "data": {
      "application/vnd.jupyter.widget-view+json": {
       "model_id": "038e6ca4535e4aef981b69c47e4164a6",
       "version_major": 2,
       "version_minor": 0
      },
      "text/plain": [
       "Calculating Metrics:   0%|          | 0/40 [00:00<?, ?it/s]"
      ]
     },
     "metadata": {},
     "output_type": "display_data"
    }
   ],
   "source": [
    "# Run a checkpoint\n",
    "\n",
    "checkpoint_result = checkpoint_1.run()"
   ]
  },
  {
   "cell_type": "markdown",
   "metadata": {},
   "source": [
    "Insight Melakukan `run` pada `checkpoint_1`."
   ]
  },
  {
   "cell_type": "markdown",
   "metadata": {},
   "source": [
    "# **Build Docs**"
   ]
  },
  {
   "cell_type": "code",
   "execution_count": 168,
   "metadata": {},
   "outputs": [
    {
     "data": {
      "text/plain": [
       "{'local_site': 'file://d:\\\\Bootcamp DS Hacktiv8\\\\FTDS\\\\Phase 2\\\\M3\\\\p2-ftds029-rmt-m3-amrihakim9\\\\gx\\\\uncommitted/data_docs/local_site/index.html'}"
      ]
     },
     "execution_count": 168,
     "metadata": {},
     "output_type": "execute_result"
    }
   ],
   "source": [
    "# Build data docs\n",
    "\n",
    "context.build_data_docs()"
   ]
  },
  {
   "cell_type": "markdown",
   "metadata": {},
   "source": [
    "Insight : Melakukan `build` pada `context` yang sudah dibuat untuk `dianalisis` pada `Great Expectations` yang sudah dilakukan. Build ini disimpan pada folder lokal dengan nama `index.html`."
   ]
  }
 ],
 "metadata": {
  "kernelspec": {
   "display_name": "base",
   "language": "python",
   "name": "python3"
  },
  "language_info": {
   "codemirror_mode": {
    "name": "ipython",
    "version": 3
   },
   "file_extension": ".py",
   "mimetype": "text/x-python",
   "name": "python",
   "nbconvert_exporter": "python",
   "pygments_lexer": "ipython3",
   "version": "3.11.7"
  }
 },
 "nbformat": 4,
 "nbformat_minor": 2
}
